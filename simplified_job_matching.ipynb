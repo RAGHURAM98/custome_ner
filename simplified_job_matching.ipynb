{
 "cells": [
  {
   "cell_type": "code",
   "execution_count": 1,
   "metadata": {},
   "outputs": [],
   "source": [
    "from db import *\n",
    "import re"
   ]
  },
  {
   "cell_type": "code",
   "execution_count": 2,
   "metadata": {},
   "outputs": [],
   "source": [
    "def remove_punct(lk):\n",
    "    lk1=[]\n",
    "    for i in lk.lower().split():\n",
    "        l = (i.encode(\"ascii\", \"ignore\")).decode(\"utf-8\")\n",
    "        if \"\\\\\" not in l:\n",
    "            lk1.append(l)\n",
    "    lk1 = \" \".join(lk1)\n",
    "    punctuations = '''!()-[]{};:'\"\\<>.,=/?@$%^&*_~|'''\n",
    "    lk2 = \"\"\n",
    "    for char in lk1:\n",
    "        if char not in punctuations:\n",
    "            lk2 = lk2 + char\n",
    "        else:\n",
    "            lk2 = lk2 + \" \"\n",
    "\n",
    "    return re.sub(\" +\", \" \", lk2)"
   ]
  },
  {
   "cell_type": "code",
   "execution_count": 3,
   "metadata": {},
   "outputs": [],
   "source": [
    "def soft_skils_checker(descrption_data):\n",
    "    soft_skills=[]\n",
    "    l=[]\n",
    "    generic_skills = skillsets_coll.find({\"skill_type\": \"generic\"})\n",
    "    for i in generic_skills:\n",
    "        skill=\" \"+remove_punct(i[\"name\"])+\" \"\n",
    "        if descrption_data.count(skill)>=1:\n",
    "            kls=remove_punct(i[\"name\"])\n",
    "            if kls not in l:\n",
    "                l.append(kls)\n",
    "                soft_skills.append([kls,i[\"discernablity\"]])\n",
    "    return soft_skills\n"
   ]
  },
  {
   "cell_type": "code",
   "execution_count": 4,
   "metadata": {},
   "outputs": [],
   "source": [
    "def techncial_skill_checker(descrption_data):\n",
    "    hard_skills=[]\n",
    "    l=[]\n",
    "    specific_skills = skillsets_coll.find({\"skill_type\": \"specific\"})\n",
    "    for i in specific_skills:\n",
    "        skill=\" \"+remove_punct(str(i[\"name\"]))+\" \"\n",
    "        if descrption_data.count(skill)>=1:\n",
    "            kls = remove_punct(i[\"name\"])\n",
    "            if kls not in l:\n",
    "                l.append(kls)\n",
    "                hard_skills.append([kls, i[\"discernablity\"]])\n",
    "    return hard_skills"
   ]
  },
  {
   "cell_type": "code",
   "execution_count": 5,
   "metadata": {},
   "outputs": [],
   "source": [
    "def student_skill_matching():\n",
    "    resumes=student_resumes.find({})\n",
    "    for resume in resumes:\n",
    "        resume1=resume[\"preprocessed\"]\n",
    "        hard_skills=techncial_skill_checker(resume1)\n",
    "        soft_skills=soft_skils_checker(resume1)\n",
    "        student_resumes.update_one({\"_id\":resume[\"_id\"]},{\"$set\":{\"soft_skills\":soft_skills,\n",
    "                                                         \"technical_skills\":hard_skills}})"
   ]
  },
  {
   "cell_type": "code",
   "execution_count": 6,
   "metadata": {},
   "outputs": [],
   "source": [
    "def job_skill_matching():\n",
    "    jobs=aracomo_jobs.find()\n",
    "    for job in jobs:\n",
    "        resume1=job[\"job_descrption\"]\n",
    "        hard_skills=techncial_skill_checker(resume1)\n",
    "        soft_skills=soft_skils_checker(resume1)\n",
    "        aracomo_jobs.update_one({\"_id\":job[\"_id\"]},{\"$set\":{\"soft_skills\":soft_skills,\n",
    "                                                         \"technical_skills\":hard_skills}})"
   ]
  },
  {
   "cell_type": "code",
   "execution_count": 9,
   "metadata": {},
   "outputs": [],
   "source": [
    "def job_matching_score():\n",
    "    jobs=aracomo_jobs.find()\n",
    "    for job in jobs:\n",
    "        job_title = job[\"job_title\"]\n",
    "        job_title = job_title.split()\n",
    "        job_title = \"_\".join(job_title)\n",
    "        resumes = student_resumes.find()\n",
    "        for resume in resumes:\n",
    "            technical_skills=[]\n",
    "            for i in resume[\"technical_skills\"]:\n",
    "                for j in job[\"technical_skills\"]:\n",
    "                    if i[0]==j[0]:\n",
    "                        technical_skills.append([i[0],i[1]])\n",
    "            #print technical_skills\n",
    "\n",
    "            soft_skills = []\n",
    "            for i in resume[\"soft_skills\"]:\n",
    "                for j in job[\"soft_skills\"]:\n",
    "                    if i[0] == j[0]:\n",
    "                        soft_skills.append([i[0],i[1]])\n",
    "            #print soft_skills\n",
    "            score=0\n",
    "            if len(technical_skills)==0:\n",
    "                score=0\n",
    "            else:\n",
    "                for i in technical_skills:\n",
    "                    score=score+float(i[1])\n",
    "                score=score+len(soft_skills)\n",
    "\n",
    "            student_resumes.update_one({\"_id\": resume[\"_id\"]}, {\"$set\": {str(job_title)+\"soft_skills\": soft_skills,\n",
    "                                                               str(job_title)+\"technical_skills\": technical_skills,\n",
    "                                                                     str(job_title)+\"score\":score}})"
   ]
  },
  {
   "cell_type": "code",
   "execution_count": 11,
   "metadata": {},
   "outputs": [
    {
     "name": "stdout",
     "output_type": "stream",
     "text": [
      "[[u'analytics', 3.0], [u'driving', 3.0], [u'statistical analysis', 3.0], [u'talent management', 3.0], [u'hr', 7.0]]\n",
      "[[u'strategy', 3.0], [u'motivation', 3.0], [u'professional development', 3.0], [u'review', 3.0], [u'processes', 3.0], [u'leadership', 3.0], [u'business', 3.0], [u'research', 3.0], [u'organization', 3.0], [u'behavior', 3.0], [u'analysis', 3.0], [u'management', 3.0], [u'readiness', 3.0], [u'disciplined', 3.0], [u'collaboration', 3.0], [u'development', 3.0], [u'reports', 3.0], [u'assessment', 3.0], [u'excel', 3.0]]\n",
      "[[u'modeling', 3.0], [u'simulation', 3.0], [u'history', 3.0], [u'petrophysics simulation', u'7'], [u'petroleum engineering specialist', u'7'], [u'oil reservoir management', u'7'], [u'geology', u'3'], [u'core and fluid analysis', u'3'], [u'data acquisition', u'3'], [u'strategic surveillance', u'3'], [u'petrophysics', u'3'], [u'reservoir engineering', u'3'], [u'petroleum engineering', u'3'], [u'reservoir management', u'3'], [u'reservoir development', u'7']]\n",
      "[[u'design', 3.0], [u'training', 3.0], [u'processes', 3.0], [u'business', 3.0], [u'research', 3.0], [u'art', 3.0], [u'analysis', 3.0], [u'management', 3.0], [u'knowledge', 3.0], [u'production', 3.0], [u'development', 3.0], [u'engineering', 3.0]]\n"
     ]
    }
   ],
   "source": [
    "student_skill_matching()\n",
    "job_skill_matching()\n",
    "job_matching_score()"
   ]
  },
  {
   "cell_type": "code",
   "execution_count": null,
   "metadata": {},
   "outputs": [],
   "source": []
  }
 ],
 "metadata": {
  "kernelspec": {
   "display_name": "Python 2",
   "language": "python",
   "name": "python2"
  },
  "language_info": {
   "codemirror_mode": {
    "name": "ipython",
    "version": 2
   },
   "file_extension": ".py",
   "mimetype": "text/x-python",
   "name": "python",
   "nbconvert_exporter": "python",
   "pygments_lexer": "ipython2",
   "version": "2.7.15rc1"
  }
 },
 "nbformat": 4,
 "nbformat_minor": 2
}
